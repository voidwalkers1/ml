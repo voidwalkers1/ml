{
 "cells": [
  {
   "cell_type": "code",
   "execution_count": 13,
   "metadata": {},
   "outputs": [
    {
     "name": "stdout",
     "output_type": "stream",
     "text": [
      "Attribues:  ['Sky', 'Temp', 'Humidity', 'Wind', 'Water', 'Forecast']\n",
      "[\"'sunny'\", \"'warm'\", \"'normal'\", \"'strong'\", \"'warm'\", \"'same'\", 'Yes']\n",
      "[\"'sunny'\", \"'warm'\", \"'high'\", \"'strong'\", \"'warm'\", \"'same'\", 'Yes']\n",
      "[\"'rainy'\", \"'cold'\", \"'high'\", \"'strong'\", \"'warm'\", \"'change'\", 'No']\n",
      "[\"'sunny'\", \"'warm'\", \"'high'\", \"'strong'\", \"'cool'\", \"'change'\", 'Yes']\n",
      "Initial hypothesis:  ['0', '0', '0', '0', '0', '0']\n",
      "Hypothesis:  1\n",
      "[\"'sunny'\", \"'warm'\", \"'normal'\", \"'strong'\", \"'warm'\", \"'same'\"]\n",
      "Hypothesis:  2\n",
      "[\"'sunny'\", \"'warm'\", '?', \"'strong'\", \"'warm'\", \"'same'\"]\n",
      "Hypothesis:  4\n",
      "[\"'sunny'\", \"'warm'\", '?', \"'strong'\", '?', '?']\n",
      "Final Hypothesis [\"'sunny'\", \"'warm'\", '?', \"'strong'\", '?', '?']\n"
     ]
    }
   ],
   "source": [
    "import csv\n",
    "def loadcsv(filename):\n",
    "    lines=csv.reader(open(filename,\"r\"))\n",
    "    dataset=list(lines)\n",
    "    for i in range(len(dataset)):\n",
    "        print(dataset[i])\n",
    "    return dataset\n",
    "\n",
    "attributes=['Sky','Temp','Humidity','Wind','Water','Forecast']\n",
    "print('Attribues: ', attributes)\n",
    "num_attr=len(attributes)\n",
    "filename='c.csv'\n",
    "dataset=loadcsv(filename)\n",
    "hypothesis=['0']*num_attr\n",
    "print(\"Initial hypothesis: \",hypothesis)\n",
    "for i in range(len(dataset)):\n",
    "    target=dataset[i][-1]\n",
    "    if target=='Yes':\n",
    "        for j in range(num_attr):\n",
    "            if hypothesis[j]=='0':\n",
    "                hypothesis[j]=dataset[i][j]\n",
    "            elif hypothesis[j]!=dataset[i][j]:\n",
    "                hypothesis[j]='?'\n",
    "        print('Hypothesis: ',i+1)\n",
    "        print(hypothesis)\n",
    "print('Final Hypothesis',hypothesis)"
   ]
  },
  {
   "cell_type": "code",
   "execution_count": null,
   "metadata": {},
   "outputs": [],
   "source": []
  }
 ],
 "metadata": {
  "kernelspec": {
   "display_name": "Python 3",
   "language": "python",
   "name": "python3"
  },
  "language_info": {
   "codemirror_mode": {
    "name": "ipython",
    "version": 3
   },
   "file_extension": ".py",
   "mimetype": "text/x-python",
   "name": "python",
   "nbconvert_exporter": "python",
   "pygments_lexer": "ipython3",
   "version": "3.7.1"
  }
 },
 "nbformat": 4,
 "nbformat_minor": 2
}
